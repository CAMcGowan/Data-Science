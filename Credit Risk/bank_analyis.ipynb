{
 "cells": [
  {
   "cell_type": "code",
   "execution_count": 1,
   "id": "automated-communist",
   "metadata": {},
   "outputs": [],
   "source": [
    "import pandas as pd\n",
    "import numpy as np\n",
    "import seaborn as sns\n",
    "import matplotlib.pyplot as plt"
   ]
  },
  {
   "cell_type": "markdown",
   "id": "gross-silver",
   "metadata": {},
   "source": [
    "# Reading in the data"
   ]
  },
  {
   "cell_type": "code",
   "execution_count": 2,
   "id": "warming-novelty",
   "metadata": {},
   "outputs": [
    {
     "data": {
      "text/html": [
       "<div>\n",
       "<style scoped>\n",
       "    .dataframe tbody tr th:only-of-type {\n",
       "        vertical-align: middle;\n",
       "    }\n",
       "\n",
       "    .dataframe tbody tr th {\n",
       "        vertical-align: top;\n",
       "    }\n",
       "\n",
       "    .dataframe thead th {\n",
       "        text-align: right;\n",
       "    }\n",
       "</style>\n",
       "<table border=\"1\" class=\"dataframe\">\n",
       "  <thead>\n",
       "    <tr style=\"text-align: right;\">\n",
       "      <th></th>\n",
       "      <th>age;\"job\";\"marital\";\"education\";\"default\";\"balance\";\"housing\";\"loan\";\"contact\";\"day\";\"month\";\"duration\";\"campaign\";\"pdays\";\"previous\";\"poutcome\";\"y\"</th>\n",
       "    </tr>\n",
       "  </thead>\n",
       "  <tbody>\n",
       "    <tr>\n",
       "      <th>0</th>\n",
       "      <td>58;\"management\";\"married\";\"tertiary\";\"no\";2143...</td>\n",
       "    </tr>\n",
       "    <tr>\n",
       "      <th>1</th>\n",
       "      <td>44;\"technician\";\"single\";\"secondary\";\"no\";29;\"...</td>\n",
       "    </tr>\n",
       "    <tr>\n",
       "      <th>2</th>\n",
       "      <td>33;\"entrepreneur\";\"married\";\"secondary\";\"no\";2...</td>\n",
       "    </tr>\n",
       "    <tr>\n",
       "      <th>3</th>\n",
       "      <td>47;\"blue-collar\";\"married\";\"unknown\";\"no\";1506...</td>\n",
       "    </tr>\n",
       "    <tr>\n",
       "      <th>4</th>\n",
       "      <td>33;\"unknown\";\"single\";\"unknown\";\"no\";1;\"no\";\"n...</td>\n",
       "    </tr>\n",
       "  </tbody>\n",
       "</table>\n",
       "</div>"
      ],
      "text/plain": [
       "  age;\"job\";\"marital\";\"education\";\"default\";\"balance\";\"housing\";\"loan\";\"contact\";\"day\";\"month\";\"duration\";\"campaign\";\"pdays\";\"previous\";\"poutcome\";\"y\"\n",
       "0  58;\"management\";\"married\";\"tertiary\";\"no\";2143...                                                                                                  \n",
       "1  44;\"technician\";\"single\";\"secondary\";\"no\";29;\"...                                                                                                  \n",
       "2  33;\"entrepreneur\";\"married\";\"secondary\";\"no\";2...                                                                                                  \n",
       "3  47;\"blue-collar\";\"married\";\"unknown\";\"no\";1506...                                                                                                  \n",
       "4  33;\"unknown\";\"single\";\"unknown\";\"no\";1;\"no\";\"n...                                                                                                  "
      ]
     },
     "execution_count": 2,
     "metadata": {},
     "output_type": "execute_result"
    }
   ],
   "source": [
    "df = pd.read_csv('bank-full.csv', sep=';')\n",
    "df.head()"
   ]
  },
  {
   "cell_type": "code",
   "execution_count": 3,
   "id": "capable-threshold",
   "metadata": {},
   "outputs": [
    {
     "data": {
      "text/plain": [
       "45211"
      ]
     },
     "execution_count": 3,
     "metadata": {},
     "output_type": "execute_result"
    }
   ],
   "source": [
    "df.shape[0]"
   ]
  },
  {
   "cell_type": "markdown",
   "id": "durable-desperate",
   "metadata": {},
   "source": [
    "Appears the data won't read nicely, the dataset is only 45 thousand rows so not very big. Seems as though its the quotation marks that are causing the reading issue. To solve I will use string manipulation on each row."
   ]
  },
  {
   "cell_type": "code",
   "execution_count": 4,
   "id": "civil-alexander",
   "metadata": {},
   "outputs": [
    {
     "data": {
      "text/html": [
       "<div>\n",
       "<style scoped>\n",
       "    .dataframe tbody tr th:only-of-type {\n",
       "        vertical-align: middle;\n",
       "    }\n",
       "\n",
       "    .dataframe tbody tr th {\n",
       "        vertical-align: top;\n",
       "    }\n",
       "\n",
       "    .dataframe thead th {\n",
       "        text-align: right;\n",
       "    }\n",
       "</style>\n",
       "<table border=\"1\" class=\"dataframe\">\n",
       "  <thead>\n",
       "    <tr style=\"text-align: right;\">\n",
       "      <th></th>\n",
       "      <th>age</th>\n",
       "      <th>job</th>\n",
       "      <th>marital</th>\n",
       "      <th>education</th>\n",
       "      <th>default</th>\n",
       "      <th>balance</th>\n",
       "      <th>housing</th>\n",
       "      <th>loan</th>\n",
       "      <th>contact</th>\n",
       "      <th>day</th>\n",
       "      <th>month</th>\n",
       "      <th>duration</th>\n",
       "      <th>campaign</th>\n",
       "      <th>pdays</th>\n",
       "      <th>previous</th>\n",
       "      <th>poutcome</th>\n",
       "      <th>y</th>\n",
       "    </tr>\n",
       "  </thead>\n",
       "  <tbody>\n",
       "    <tr>\n",
       "      <th>0</th>\n",
       "      <td>58</td>\n",
       "      <td>management</td>\n",
       "      <td>married</td>\n",
       "      <td>tertiary</td>\n",
       "      <td>no</td>\n",
       "      <td>2143</td>\n",
       "      <td>yes</td>\n",
       "      <td>no</td>\n",
       "      <td>unknown</td>\n",
       "      <td>5</td>\n",
       "      <td>may</td>\n",
       "      <td>261</td>\n",
       "      <td>1</td>\n",
       "      <td>-1</td>\n",
       "      <td>0</td>\n",
       "      <td>unknown</td>\n",
       "      <td>no</td>\n",
       "    </tr>\n",
       "    <tr>\n",
       "      <th>1</th>\n",
       "      <td>44</td>\n",
       "      <td>technician</td>\n",
       "      <td>single</td>\n",
       "      <td>secondary</td>\n",
       "      <td>no</td>\n",
       "      <td>29</td>\n",
       "      <td>yes</td>\n",
       "      <td>no</td>\n",
       "      <td>unknown</td>\n",
       "      <td>5</td>\n",
       "      <td>may</td>\n",
       "      <td>151</td>\n",
       "      <td>1</td>\n",
       "      <td>-1</td>\n",
       "      <td>0</td>\n",
       "      <td>unknown</td>\n",
       "      <td>no</td>\n",
       "    </tr>\n",
       "    <tr>\n",
       "      <th>2</th>\n",
       "      <td>33</td>\n",
       "      <td>entrepreneur</td>\n",
       "      <td>married</td>\n",
       "      <td>secondary</td>\n",
       "      <td>no</td>\n",
       "      <td>2</td>\n",
       "      <td>yes</td>\n",
       "      <td>yes</td>\n",
       "      <td>unknown</td>\n",
       "      <td>5</td>\n",
       "      <td>may</td>\n",
       "      <td>76</td>\n",
       "      <td>1</td>\n",
       "      <td>-1</td>\n",
       "      <td>0</td>\n",
       "      <td>unknown</td>\n",
       "      <td>no</td>\n",
       "    </tr>\n",
       "    <tr>\n",
       "      <th>3</th>\n",
       "      <td>47</td>\n",
       "      <td>blue-collar</td>\n",
       "      <td>married</td>\n",
       "      <td>unknown</td>\n",
       "      <td>no</td>\n",
       "      <td>1506</td>\n",
       "      <td>yes</td>\n",
       "      <td>no</td>\n",
       "      <td>unknown</td>\n",
       "      <td>5</td>\n",
       "      <td>may</td>\n",
       "      <td>92</td>\n",
       "      <td>1</td>\n",
       "      <td>-1</td>\n",
       "      <td>0</td>\n",
       "      <td>unknown</td>\n",
       "      <td>no</td>\n",
       "    </tr>\n",
       "    <tr>\n",
       "      <th>4</th>\n",
       "      <td>33</td>\n",
       "      <td>unknown</td>\n",
       "      <td>single</td>\n",
       "      <td>unknown</td>\n",
       "      <td>no</td>\n",
       "      <td>1</td>\n",
       "      <td>no</td>\n",
       "      <td>no</td>\n",
       "      <td>unknown</td>\n",
       "      <td>5</td>\n",
       "      <td>may</td>\n",
       "      <td>198</td>\n",
       "      <td>1</td>\n",
       "      <td>-1</td>\n",
       "      <td>0</td>\n",
       "      <td>unknown</td>\n",
       "      <td>no</td>\n",
       "    </tr>\n",
       "  </tbody>\n",
       "</table>\n",
       "</div>"
      ],
      "text/plain": [
       "  age           job  marital  education default balance housing loan  contact  \\\n",
       "0  58    management  married   tertiary      no    2143     yes   no  unknown   \n",
       "1  44    technician   single  secondary      no      29     yes   no  unknown   \n",
       "2  33  entrepreneur  married  secondary      no       2     yes  yes  unknown   \n",
       "3  47   blue-collar  married    unknown      no    1506     yes   no  unknown   \n",
       "4  33       unknown   single    unknown      no       1      no   no  unknown   \n",
       "\n",
       "  day month duration campaign pdays previous poutcome   y  \n",
       "0   5   may      261        1    -1        0  unknown  no  \n",
       "1   5   may      151        1    -1        0  unknown  no  \n",
       "2   5   may       76        1    -1        0  unknown  no  \n",
       "3   5   may       92        1    -1        0  unknown  no  \n",
       "4   5   may      198        1    -1        0  unknown  no  "
      ]
     },
     "execution_count": 4,
     "metadata": {},
     "output_type": "execute_result"
    }
   ],
   "source": [
    "import csv\n",
    "\n",
    "# create a list to store the rows in\n",
    "store = []\n",
    "\n",
    "with open('bank-full.csv', 'r') as file:\n",
    "    # delimeter isn't working, assume because of the \"\"\n",
    "    reader = csv.reader(file)\n",
    "    for i, row in enumerate(reader):\n",
    "        # get the headings\n",
    "        if i == 0:\n",
    "            columns = row[0].replace('\"', '').split(';')\n",
    "        else:\n",
    "            store.append(row[0].replace('\"', '').split(';'))\n",
    "\n",
    "# place values in a dataframe\n",
    "df = pd.DataFrame(store, columns=columns)\n",
    "df.head()"
   ]
  },
  {
   "cell_type": "code",
   "execution_count": 5,
   "id": "sticky-desktop",
   "metadata": {},
   "outputs": [
    {
     "name": "stdout",
     "output_type": "stream",
     "text": [
      "<class 'pandas.core.frame.DataFrame'>\n",
      "RangeIndex: 45211 entries, 0 to 45210\n",
      "Data columns (total 17 columns):\n",
      " #   Column     Non-Null Count  Dtype \n",
      "---  ------     --------------  ----- \n",
      " 0   age        45211 non-null  object\n",
      " 1   job        45211 non-null  object\n",
      " 2   marital    45211 non-null  object\n",
      " 3   education  45211 non-null  object\n",
      " 4   default    45211 non-null  object\n",
      " 5   balance    45211 non-null  object\n",
      " 6   housing    45211 non-null  object\n",
      " 7   loan       45211 non-null  object\n",
      " 8   contact    45211 non-null  object\n",
      " 9   day        45211 non-null  object\n",
      " 10  month      45211 non-null  object\n",
      " 11  duration   45211 non-null  object\n",
      " 12  campaign   45211 non-null  object\n",
      " 13  pdays      45211 non-null  object\n",
      " 14  previous   45211 non-null  object\n",
      " 15  poutcome   45211 non-null  object\n",
      " 16  y          45211 non-null  object\n",
      "dtypes: object(17)\n",
      "memory usage: 5.9+ MB\n"
     ]
    }
   ],
   "source": [
    "df.info()"
   ]
  },
  {
   "cell_type": "markdown",
   "id": "phantom-blanket",
   "metadata": {},
   "source": [
    "All currently stored as a string. The numeric values will be converted based on observations from the df.head(), and a list of both the categorical columns and the numeric columns will be saved for later use."
   ]
  },
  {
   "cell_type": "markdown",
   "id": "handled-wholesale",
   "metadata": {},
   "source": [
    "### Check for unknowns and missing values"
   ]
  },
  {
   "cell_type": "markdown",
   "id": "optimum-hawaii",
   "metadata": {},
   "source": [
    "Appears unknown is a na value in the dataframe. "
   ]
  },
  {
   "cell_type": "code",
   "execution_count": 6,
   "id": "hidden-suite",
   "metadata": {},
   "outputs": [
    {
     "data": {
      "text/plain": [
       "age           0.0\n",
       "job           0.6\n",
       "marital       0.0\n",
       "education     4.1\n",
       "default       0.0\n",
       "balance       0.0\n",
       "housing       0.0\n",
       "loan          0.0\n",
       "contact      28.8\n",
       "day           0.0\n",
       "month         0.0\n",
       "duration      0.0\n",
       "campaign      0.0\n",
       "pdays         0.0\n",
       "previous      0.0\n",
       "poutcome     81.7\n",
       "y             0.0\n",
       "dtype: float64"
      ]
     },
     "execution_count": 6,
     "metadata": {},
     "output_type": "execute_result"
    }
   ],
   "source": [
    "# inspect for missinbg values\n",
    "df[df == 'unknown'] = np.nan\n",
    "# return percentage of column that is missing\n",
    "round(df.isna().sum()/df.shape[0]*100,1)"
   ]
  },
  {
   "cell_type": "markdown",
   "id": "false-welding",
   "metadata": {},
   "source": [
    "Inital thoughts are to discard poutcome column as mostly missing, may drop  education and job to drop rows as less than 5% total."
   ]
  },
  {
   "cell_type": "code",
   "execution_count": 7,
   "id": "ecological-proceeding",
   "metadata": {},
   "outputs": [
    {
     "data": {
      "text/html": [
       "<style  type=\"text/css\" >\n",
       "#T_ee988cae_a98d_11eb_a8b5_e0d55e76e23crow0_col0{\n",
       "            background-color:  #c32e31;\n",
       "            color:  #f1f1f1;\n",
       "        }#T_ee988cae_a98d_11eb_a8b5_e0d55e76e23crow0_col1{\n",
       "            background-color:  #e9785d;\n",
       "            color:  #000000;\n",
       "        }#T_ee988cae_a98d_11eb_a8b5_e0d55e76e23crow0_col2{\n",
       "            background-color:  #e46e56;\n",
       "            color:  #000000;\n",
       "        }#T_ee988cae_a98d_11eb_a8b5_e0d55e76e23crow0_col3{\n",
       "            background-color:  #df634e;\n",
       "            color:  #000000;\n",
       "        }#T_ee988cae_a98d_11eb_a8b5_e0d55e76e23crow1_col0,#T_ee988cae_a98d_11eb_a8b5_e0d55e76e23crow1_col1,#T_ee988cae_a98d_11eb_a8b5_e0d55e76e23crow1_col2,#T_ee988cae_a98d_11eb_a8b5_e0d55e76e23crow1_col3{\n",
       "            background-color:  #3b4cc0;\n",
       "            color:  #f1f1f1;\n",
       "        }#T_ee988cae_a98d_11eb_a8b5_e0d55e76e23crow2_col0,#T_ee988cae_a98d_11eb_a8b5_e0d55e76e23crow2_col1,#T_ee988cae_a98d_11eb_a8b5_e0d55e76e23crow2_col2,#T_ee988cae_a98d_11eb_a8b5_e0d55e76e23crow2_col3{\n",
       "            background-color:  #b40426;\n",
       "            color:  #f1f1f1;\n",
       "        }</style><table id=\"T_ee988cae_a98d_11eb_a8b5_e0d55e76e23c\" ><thead>    <tr>        <th class=\"index_name level0\" >contact</th>        <th class=\"col_heading level0 col0\" >Not provided</th>        <th class=\"col_heading level0 col1\" >cellular</th>        <th class=\"col_heading level0 col2\" >telephone</th>        <th class=\"col_heading level0 col3\" >All</th>    </tr>    <tr>        <th class=\"index_name level0\" >y</th>        <th class=\"blank\" ></th>        <th class=\"blank\" ></th>        <th class=\"blank\" ></th>        <th class=\"blank\" ></th>    </tr></thead><tbody>\n",
       "                <tr>\n",
       "                        <th id=\"T_ee988cae_a98d_11eb_a8b5_e0d55e76e23clevel0_row0\" class=\"row_heading level0 row0\" >no</th>\n",
       "                        <td id=\"T_ee988cae_a98d_11eb_a8b5_e0d55e76e23crow0_col0\" class=\"data row0 col0\" >12490</td>\n",
       "                        <td id=\"T_ee988cae_a98d_11eb_a8b5_e0d55e76e23crow0_col1\" class=\"data row0 col1\" >24916</td>\n",
       "                        <td id=\"T_ee988cae_a98d_11eb_a8b5_e0d55e76e23crow0_col2\" class=\"data row0 col2\" >2516</td>\n",
       "                        <td id=\"T_ee988cae_a98d_11eb_a8b5_e0d55e76e23crow0_col3\" class=\"data row0 col3\" >39922</td>\n",
       "            </tr>\n",
       "            <tr>\n",
       "                        <th id=\"T_ee988cae_a98d_11eb_a8b5_e0d55e76e23clevel0_row1\" class=\"row_heading level0 row1\" >yes</th>\n",
       "                        <td id=\"T_ee988cae_a98d_11eb_a8b5_e0d55e76e23crow1_col0\" class=\"data row1 col0\" >530</td>\n",
       "                        <td id=\"T_ee988cae_a98d_11eb_a8b5_e0d55e76e23crow1_col1\" class=\"data row1 col1\" >4369</td>\n",
       "                        <td id=\"T_ee988cae_a98d_11eb_a8b5_e0d55e76e23crow1_col2\" class=\"data row1 col2\" >390</td>\n",
       "                        <td id=\"T_ee988cae_a98d_11eb_a8b5_e0d55e76e23crow1_col3\" class=\"data row1 col3\" >5289</td>\n",
       "            </tr>\n",
       "            <tr>\n",
       "                        <th id=\"T_ee988cae_a98d_11eb_a8b5_e0d55e76e23clevel0_row2\" class=\"row_heading level0 row2\" >All</th>\n",
       "                        <td id=\"T_ee988cae_a98d_11eb_a8b5_e0d55e76e23crow2_col0\" class=\"data row2 col0\" >13020</td>\n",
       "                        <td id=\"T_ee988cae_a98d_11eb_a8b5_e0d55e76e23crow2_col1\" class=\"data row2 col1\" >29285</td>\n",
       "                        <td id=\"T_ee988cae_a98d_11eb_a8b5_e0d55e76e23crow2_col2\" class=\"data row2 col2\" >2906</td>\n",
       "                        <td id=\"T_ee988cae_a98d_11eb_a8b5_e0d55e76e23crow2_col3\" class=\"data row2 col3\" >45211</td>\n",
       "            </tr>\n",
       "    </tbody></table>"
      ],
      "text/plain": [
       "<pandas.io.formats.style.Styler at 0x2148db81eb8>"
      ]
     },
     "execution_count": 7,
     "metadata": {},
     "output_type": "execute_result"
    }
   ],
   "source": [
    "df['contact'].fillna('Not provided', inplace=True)\n",
    "(pd.crosstab(df['y'], df['contact'],margins=True)*1).style.background_gradient(cmap='coolwarm')"
   ]
  },
  {
   "cell_type": "markdown",
   "id": "muslim-incentive",
   "metadata": {},
   "source": [
    "Seems most people who do not provide telephone contacts result in a no, so it is likely significant and values will be retained as 'Not provided'.\n",
    "\n",
    "Handle other missing values below."
   ]
  },
  {
   "cell_type": "code",
   "execution_count": 8,
   "id": "living-product",
   "metadata": {},
   "outputs": [],
   "source": [
    "# Drop column mostly missing values\n",
    "df.drop(columns=['poutcome'], inplace=True)\n",
    "# Drop rows as combined less than 5% of the data\n",
    "df.dropna(axis=0, inplace=True)"
   ]
  },
  {
   "cell_type": "code",
   "execution_count": 9,
   "id": "lined-irrigation",
   "metadata": {},
   "outputs": [
    {
     "data": {
      "text/plain": [
       "(43193, 16)"
      ]
     },
     "execution_count": 9,
     "metadata": {},
     "output_type": "execute_result"
    }
   ],
   "source": [
    "df.shape"
   ]
  },
  {
   "cell_type": "markdown",
   "id": "excess-engineering",
   "metadata": {},
   "source": [
    "## Inspect the target Varible"
   ]
  },
  {
   "cell_type": "code",
   "execution_count": 10,
   "id": "diverse-delay",
   "metadata": {},
   "outputs": [
    {
     "data": {
      "text/plain": [
       "Counter({'no': 38172, 'yes': 5021})"
      ]
     },
     "execution_count": 10,
     "metadata": {},
     "output_type": "execute_result"
    }
   ],
   "source": [
    "from collections import Counter\n",
    "# Count the number of goods vs bads\n",
    "Counter(df['y'])"
   ]
  },
  {
   "cell_type": "markdown",
   "id": "tribal-object",
   "metadata": {},
   "source": [
    "A imbalanced target varible can lead to poor classification, two solutions include using under and oversampling."
   ]
  },
  {
   "cell_type": "code",
   "execution_count": 11,
   "id": "incoming-intro",
   "metadata": {},
   "outputs": [
    {
     "name": "stdout",
     "output_type": "stream",
     "text": [
      "The ratio of success is 11.6 %\n"
     ]
    }
   ],
   "source": [
    "success_ratio = round(100*Counter(df['y'])['yes']/(Counter(df['y'])['yes']+Counter(df['y'])['no']),1)\n",
    "print('The ratio of success is', success_ratio, '%')"
   ]
  },
  {
   "cell_type": "markdown",
   "id": "spread-broadway",
   "metadata": {},
   "source": [
    "The success ratio suggests that the current technique of marketing only results in 11.7% successful output, therefore this will act as my benchmark, to iterate upon and improve the success ratio."
   ]
  },
  {
   "cell_type": "code",
   "execution_count": 12,
   "id": "worth-costa",
   "metadata": {},
   "outputs": [
    {
     "data": {
      "text/plain": [
       "array(['no', 'yes'], dtype=object)"
      ]
     },
     "execution_count": 12,
     "metadata": {},
     "output_type": "execute_result"
    }
   ],
   "source": [
    "df['y'].unique()"
   ]
  },
  {
   "cell_type": "markdown",
   "id": "smaller-wonder",
   "metadata": {},
   "source": [
    "# What type of Customer\n",
    "Look at a few of their categorical characteristics to determine, what kind of customer is most receptive to the campaign.\n",
    "## Hists"
   ]
  },
  {
   "cell_type": "code",
   "execution_count": 13,
   "id": "electric-cincinnati",
   "metadata": {},
   "outputs": [
    {
     "data": {
      "image/png": "[encoded data removed]",
      "text/plain": [
       "<Figure size 432x288 with 1 Axes>"
      ]
     },
     "metadata": {
      "needs_background": "light"
     },
     "output_type": "display_data"
    }
   ],
   "source": [
    "sns.countplot(x='marital',hue='y',data=df)\n",
    "plt.show()"
   ]
  },
  {
   "cell_type": "code",
   "execution_count": 14,
   "id": "norwegian-nebraska",
   "metadata": {},
   "outputs": [
    {
     "data": {
      "image/png": "[encoded data removed]",
      "text/plain": [
       "<Figure size 432x288 with 1 Axes>"
      ]
     },
     "metadata": {
      "needs_background": "light"
     },
     "output_type": "display_data"
    }
   ],
   "source": [
    "sns.countplot(x='education',hue='y',data=df)\n",
    "plt.show()"
   ]
  },
  {
   "cell_type": "markdown",
   "id": "otherwise-direction",
   "metadata": {},
   "source": [
    "## Crosstabs"
   ]
  },
  {
   "cell_type": "code",
   "execution_count": 15,
   "id": "cloudy-forwarding",
   "metadata": {},
   "outputs": [
    {
     "data": {
      "text/html": [
       "<style  type=\"text/css\" >\n",
       "#T_ef2f9c52_a98d_11eb_8dc8_e0d55e76e23crow0_col0,#T_ef2f9c52_a98d_11eb_8dc8_e0d55e76e23crow0_col1,#T_ef2f9c52_a98d_11eb_8dc8_e0d55e76e23crow0_col2,#T_ef2f9c52_a98d_11eb_8dc8_e0d55e76e23crow0_col3{\n",
       "            background-color:  #b40426;\n",
       "            color:  #f1f1f1;\n",
       "        }#T_ef2f9c52_a98d_11eb_8dc8_e0d55e76e23crow1_col0,#T_ef2f9c52_a98d_11eb_8dc8_e0d55e76e23crow1_col1,#T_ef2f9c52_a98d_11eb_8dc8_e0d55e76e23crow1_col2,#T_ef2f9c52_a98d_11eb_8dc8_e0d55e76e23crow1_col3{\n",
       "            background-color:  #3b4cc0;\n",
       "            color:  #f1f1f1;\n",
       "        }</style><table id=\"T_ef2f9c52_a98d_11eb_8dc8_e0d55e76e23c\" ><thead>    <tr>        <th class=\"index_name level0\" >marital</th>        <th class=\"col_heading level0 col0\" >divorced</th>        <th class=\"col_heading level0 col1\" >married</th>        <th class=\"col_heading level0 col2\" >single</th>        <th class=\"col_heading level0 col3\" >All</th>    </tr>    <tr>        <th class=\"index_name level0\" >y</th>        <th class=\"blank\" ></th>        <th class=\"blank\" ></th>        <th class=\"blank\" ></th>        <th class=\"blank\" ></th>    </tr></thead><tbody>\n",
       "                <tr>\n",
       "                        <th id=\"T_ef2f9c52_a98d_11eb_8dc8_e0d55e76e23clevel0_row0\" class=\"row_heading level0 row0\" >no</th>\n",
       "                        <td id=\"T_ef2f9c52_a98d_11eb_8dc8_e0d55e76e23crow0_col0\" class=\"data row0 col0\" >88.106603</td>\n",
       "                        <td id=\"T_ef2f9c52_a98d_11eb_8dc8_e0d55e76e23crow0_col1\" class=\"data row0 col1\" >89.967625</td>\n",
       "                        <td id=\"T_ef2f9c52_a98d_11eb_8dc8_e0d55e76e23crow0_col2\" class=\"data row0 col2\" >85.105164</td>\n",
       "                        <td id=\"T_ef2f9c52_a98d_11eb_8dc8_e0d55e76e23crow0_col3\" class=\"data row0 col3\" >88.375431</td>\n",
       "            </tr>\n",
       "            <tr>\n",
       "                        <th id=\"T_ef2f9c52_a98d_11eb_8dc8_e0d55e76e23clevel0_row1\" class=\"row_heading level0 row1\" >yes</th>\n",
       "                        <td id=\"T_ef2f9c52_a98d_11eb_8dc8_e0d55e76e23crow1_col0\" class=\"data row1 col0\" >11.893397</td>\n",
       "                        <td id=\"T_ef2f9c52_a98d_11eb_8dc8_e0d55e76e23crow1_col1\" class=\"data row1 col1\" >10.032375</td>\n",
       "                        <td id=\"T_ef2f9c52_a98d_11eb_8dc8_e0d55e76e23crow1_col2\" class=\"data row1 col2\" >14.894836</td>\n",
       "                        <td id=\"T_ef2f9c52_a98d_11eb_8dc8_e0d55e76e23crow1_col3\" class=\"data row1 col3\" >11.624569</td>\n",
       "            </tr>\n",
       "    </tbody></table>"
      ],
      "text/plain": [
       "<pandas.io.formats.style.Styler at 0x214afba9828>"
      ]
     },
     "execution_count": 15,
     "metadata": {},
     "output_type": "execute_result"
    }
   ],
   "source": [
    "(pd.crosstab(df['y'], df['marital'],margins=True,normalize='columns')*100).style.background_gradient(cmap='coolwarm')"
   ]
  },
  {
   "cell_type": "code",
   "execution_count": 16,
   "id": "defined-regard",
   "metadata": {},
   "outputs": [
    {
     "data": {
      "text/html": [
       "<style  type=\"text/css\" >\n",
       "#T_ef44fb24_a98d_11eb_8d4e_e0d55e76e23crow0_col0,#T_ef44fb24_a98d_11eb_8d4e_e0d55e76e23crow0_col1,#T_ef44fb24_a98d_11eb_8d4e_e0d55e76e23crow0_col2,#T_ef44fb24_a98d_11eb_8d4e_e0d55e76e23crow0_col3{\n",
       "            background-color:  #b40426;\n",
       "            color:  #f1f1f1;\n",
       "        }#T_ef44fb24_a98d_11eb_8d4e_e0d55e76e23crow1_col0,#T_ef44fb24_a98d_11eb_8d4e_e0d55e76e23crow1_col1,#T_ef44fb24_a98d_11eb_8d4e_e0d55e76e23crow1_col2,#T_ef44fb24_a98d_11eb_8d4e_e0d55e76e23crow1_col3{\n",
       "            background-color:  #3b4cc0;\n",
       "            color:  #f1f1f1;\n",
       "        }</style><table id=\"T_ef44fb24_a98d_11eb_8d4e_e0d55e76e23c\" ><thead>    <tr>        <th class=\"index_name level0\" >education</th>        <th class=\"col_heading level0 col0\" >primary</th>        <th class=\"col_heading level0 col1\" >secondary</th>        <th class=\"col_heading level0 col2\" >tertiary</th>        <th class=\"col_heading level0 col3\" >All</th>    </tr>    <tr>        <th class=\"index_name level0\" >y</th>        <th class=\"blank\" ></th>        <th class=\"blank\" ></th>        <th class=\"blank\" ></th>        <th class=\"blank\" ></th>    </tr></thead><tbody>\n",
       "                <tr>\n",
       "                        <th id=\"T_ef44fb24_a98d_11eb_8d4e_e0d55e76e23clevel0_row0\" class=\"row_heading level0 row0\" >no</th>\n",
       "                        <td id=\"T_ef44fb24_a98d_11eb_8d4e_e0d55e76e23crow0_col0\" class=\"data row0 col0\" >91.352941</td>\n",
       "                        <td id=\"T_ef44fb24_a98d_11eb_8d4e_e0d55e76e23crow0_col1\" class=\"data row0 col1\" >89.447062</td>\n",
       "                        <td id=\"T_ef44fb24_a98d_11eb_8d4e_e0d55e76e23crow0_col2\" class=\"data row0 col2\" >84.979641</td>\n",
       "                        <td id=\"T_ef44fb24_a98d_11eb_8d4e_e0d55e76e23crow0_col3\" class=\"data row0 col3\" >88.375431</td>\n",
       "            </tr>\n",
       "            <tr>\n",
       "                        <th id=\"T_ef44fb24_a98d_11eb_8d4e_e0d55e76e23clevel0_row1\" class=\"row_heading level0 row1\" >yes</th>\n",
       "                        <td id=\"T_ef44fb24_a98d_11eb_8d4e_e0d55e76e23crow1_col0\" class=\"data row1 col0\" >8.647059</td>\n",
       "                        <td id=\"T_ef44fb24_a98d_11eb_8d4e_e0d55e76e23crow1_col1\" class=\"data row1 col1\" >10.552938</td>\n",
       "                        <td id=\"T_ef44fb24_a98d_11eb_8d4e_e0d55e76e23crow1_col2\" class=\"data row1 col2\" >15.020359</td>\n",
       "                        <td id=\"T_ef44fb24_a98d_11eb_8d4e_e0d55e76e23crow1_col3\" class=\"data row1 col3\" >11.624569</td>\n",
       "            </tr>\n",
       "    </tbody></table>"
      ],
      "text/plain": [
       "<pandas.io.formats.style.Styler at 0x214b442f208>"
      ]
     },
     "execution_count": 16,
     "metadata": {},
     "output_type": "execute_result"
    }
   ],
   "source": [
    "(pd.crosstab(df['y'],df['education'],margins=True,normalize='columns')*100).style.background_gradient(cmap='coolwarm')"
   ]
  },
  {
   "cell_type": "markdown",
   "id": "unknown-solution",
   "metadata": {},
   "source": [
    "It would appear that customers who are single and have a tertiary eucation are most receptive to the advertising campagin."
   ]
  },
  {
   "cell_type": "code",
   "execution_count": 17,
   "id": "several-subscription",
   "metadata": {},
   "outputs": [],
   "source": [
    "df_selective = df.loc[(df['marital']=='single') & (df['education']=='tertiary')]"
   ]
  },
  {
   "cell_type": "code",
   "execution_count": 18,
   "id": "human-canadian",
   "metadata": {},
   "outputs": [
    {
     "data": {
      "text/html": [
       "<style  type=\"text/css\" >\n",
       "#T_ef597c02_a98d_11eb_87a6_e0d55e76e23crow0_col0,#T_ef597c02_a98d_11eb_87a6_e0d55e76e23crow0_col1,#T_ef597c02_a98d_11eb_87a6_e0d55e76e23crow0_col2,#T_ef597c02_a98d_11eb_87a6_e0d55e76e23crow0_col3,#T_ef597c02_a98d_11eb_87a6_e0d55e76e23crow0_col4,#T_ef597c02_a98d_11eb_87a6_e0d55e76e23crow0_col5,#T_ef597c02_a98d_11eb_87a6_e0d55e76e23crow0_col6,#T_ef597c02_a98d_11eb_87a6_e0d55e76e23crow0_col7,#T_ef597c02_a98d_11eb_87a6_e0d55e76e23crow0_col8,#T_ef597c02_a98d_11eb_87a6_e0d55e76e23crow0_col9,#T_ef597c02_a98d_11eb_87a6_e0d55e76e23crow0_col10,#T_ef597c02_a98d_11eb_87a6_e0d55e76e23crow0_col11{\n",
       "            background-color:  #b40426;\n",
       "            color:  #f1f1f1;\n",
       "        }#T_ef597c02_a98d_11eb_87a6_e0d55e76e23crow1_col0,#T_ef597c02_a98d_11eb_87a6_e0d55e76e23crow1_col1,#T_ef597c02_a98d_11eb_87a6_e0d55e76e23crow1_col2,#T_ef597c02_a98d_11eb_87a6_e0d55e76e23crow1_col3,#T_ef597c02_a98d_11eb_87a6_e0d55e76e23crow1_col4,#T_ef597c02_a98d_11eb_87a6_e0d55e76e23crow1_col5,#T_ef597c02_a98d_11eb_87a6_e0d55e76e23crow1_col6,#T_ef597c02_a98d_11eb_87a6_e0d55e76e23crow1_col7,#T_ef597c02_a98d_11eb_87a6_e0d55e76e23crow1_col8,#T_ef597c02_a98d_11eb_87a6_e0d55e76e23crow1_col9,#T_ef597c02_a98d_11eb_87a6_e0d55e76e23crow1_col10,#T_ef597c02_a98d_11eb_87a6_e0d55e76e23crow1_col11{\n",
       "            background-color:  #3b4cc0;\n",
       "            color:  #f1f1f1;\n",
       "        }</style><table id=\"T_ef597c02_a98d_11eb_87a6_e0d55e76e23c\" ><thead>    <tr>        <th class=\"index_name level0\" >job</th>        <th class=\"col_heading level0 col0\" >admin.</th>        <th class=\"col_heading level0 col1\" >blue-collar</th>        <th class=\"col_heading level0 col2\" >entrepreneur</th>        <th class=\"col_heading level0 col3\" >housemaid</th>        <th class=\"col_heading level0 col4\" >management</th>        <th class=\"col_heading level0 col5\" >retired</th>        <th class=\"col_heading level0 col6\" >self-employed</th>        <th class=\"col_heading level0 col7\" >services</th>        <th class=\"col_heading level0 col8\" >student</th>        <th class=\"col_heading level0 col9\" >technician</th>        <th class=\"col_heading level0 col10\" >unemployed</th>        <th class=\"col_heading level0 col11\" >All</th>    </tr>    <tr>        <th class=\"index_name level0\" >y</th>        <th class=\"blank\" ></th>        <th class=\"blank\" ></th>        <th class=\"blank\" ></th>        <th class=\"blank\" ></th>        <th class=\"blank\" ></th>        <th class=\"blank\" ></th>        <th class=\"blank\" ></th>        <th class=\"blank\" ></th>        <th class=\"blank\" ></th>        <th class=\"blank\" ></th>        <th class=\"blank\" ></th>        <th class=\"blank\" ></th>    </tr></thead><tbody>\n",
       "                <tr>\n",
       "                        <th id=\"T_ef597c02_a98d_11eb_87a6_e0d55e76e23clevel0_row0\" class=\"row_heading level0 row0\" >no</th>\n",
       "                        <td id=\"T_ef597c02_a98d_11eb_87a6_e0d55e76e23crow0_col0\" class=\"data row0 col0\" >81.884058</td>\n",
       "                        <td id=\"T_ef597c02_a98d_11eb_87a6_e0d55e76e23crow0_col1\" class=\"data row0 col1\" >76.470588</td>\n",
       "                        <td id=\"T_ef597c02_a98d_11eb_87a6_e0d55e76e23crow0_col2\" class=\"data row0 col2\" >91.911765</td>\n",
       "                        <td id=\"T_ef597c02_a98d_11eb_87a6_e0d55e76e23crow0_col3\" class=\"data row0 col3\" >75.609756</td>\n",
       "                        <td id=\"T_ef597c02_a98d_11eb_87a6_e0d55e76e23crow0_col4\" class=\"data row0 col4\" >82.546440</td>\n",
       "                        <td id=\"T_ef597c02_a98d_11eb_87a6_e0d55e76e23crow0_col5\" class=\"data row0 col5\" >77.777778</td>\n",
       "                        <td id=\"T_ef597c02_a98d_11eb_87a6_e0d55e76e23crow0_col6\" class=\"data row0 col6\" >75.570033</td>\n",
       "                        <td id=\"T_ef597c02_a98d_11eb_87a6_e0d55e76e23crow0_col7\" class=\"data row0 col7\" >83.505155</td>\n",
       "                        <td id=\"T_ef597c02_a98d_11eb_87a6_e0d55e76e23crow0_col8\" class=\"data row0 col8\" >71.717172</td>\n",
       "                        <td id=\"T_ef597c02_a98d_11eb_87a6_e0d55e76e23crow0_col9\" class=\"data row0 col9\" >83.593750</td>\n",
       "                        <td id=\"T_ef597c02_a98d_11eb_87a6_e0d55e76e23crow0_col10\" class=\"data row0 col10\" >73.880597</td>\n",
       "                        <td id=\"T_ef597c02_a98d_11eb_87a6_e0d55e76e23crow0_col11\" class=\"data row0 col11\" >81.656557</td>\n",
       "            </tr>\n",
       "            <tr>\n",
       "                        <th id=\"T_ef597c02_a98d_11eb_87a6_e0d55e76e23clevel0_row1\" class=\"row_heading level0 row1\" >yes</th>\n",
       "                        <td id=\"T_ef597c02_a98d_11eb_87a6_e0d55e76e23crow1_col0\" class=\"data row1 col0\" >18.115942</td>\n",
       "                        <td id=\"T_ef597c02_a98d_11eb_87a6_e0d55e76e23crow1_col1\" class=\"data row1 col1\" >23.529412</td>\n",
       "                        <td id=\"T_ef597c02_a98d_11eb_87a6_e0d55e76e23crow1_col2\" class=\"data row1 col2\" >8.088235</td>\n",
       "                        <td id=\"T_ef597c02_a98d_11eb_87a6_e0d55e76e23crow1_col3\" class=\"data row1 col3\" >24.390244</td>\n",
       "                        <td id=\"T_ef597c02_a98d_11eb_87a6_e0d55e76e23crow1_col4\" class=\"data row1 col4\" >17.453560</td>\n",
       "                        <td id=\"T_ef597c02_a98d_11eb_87a6_e0d55e76e23crow1_col5\" class=\"data row1 col5\" >22.222222</td>\n",
       "                        <td id=\"T_ef597c02_a98d_11eb_87a6_e0d55e76e23crow1_col6\" class=\"data row1 col6\" >24.429967</td>\n",
       "                        <td id=\"T_ef597c02_a98d_11eb_87a6_e0d55e76e23crow1_col7\" class=\"data row1 col7\" >16.494845</td>\n",
       "                        <td id=\"T_ef597c02_a98d_11eb_87a6_e0d55e76e23crow1_col8\" class=\"data row1 col8\" >28.282828</td>\n",
       "                        <td id=\"T_ef597c02_a98d_11eb_87a6_e0d55e76e23crow1_col9\" class=\"data row1 col9\" >16.406250</td>\n",
       "                        <td id=\"T_ef597c02_a98d_11eb_87a6_e0d55e76e23crow1_col10\" class=\"data row1 col10\" >26.119403</td>\n",
       "                        <td id=\"T_ef597c02_a98d_11eb_87a6_e0d55e76e23crow1_col11\" class=\"data row1 col11\" >18.343443</td>\n",
       "            </tr>\n",
       "    </tbody></table>"
      ],
      "text/plain": [
       "<pandas.io.formats.style.Styler at 0x214b44450f0>"
      ]
     },
     "execution_count": 18,
     "metadata": {},
     "output_type": "execute_result"
    }
   ],
   "source": [
    "(pd.crosstab(df_selective['y'], df_selective['job'],margins=True,normalize='columns')*100).style.background_gradient(cmap='coolwarm')"
   ]
  },
  {
   "cell_type": "markdown",
   "id": "printable-musician",
   "metadata": {},
   "source": [
    "The results suggest the best candidates to target with marketing are highly educated, single and student. However, if they also work in one of the following professions: student, unemployed, self-employed, housemaid, blue collar or retired, the rate of positive response will be in excess of 22% almost double the average rate of success across all customers. In fact for all highly educated single people that are not entrepeneurs, targetting them for the advertising campaign would be more successful than the 11.7% achieved previously.\n",
    "# Statistics"
   ]
  },
  {
   "cell_type": "markdown",
   "id": "wrapped-border",
   "metadata": {},
   "source": [
    "### Binary Variables\n",
    "Test to see if has housing loan yes vs housing loan no has a statistical significance on the average outcome of marketing.\n",
    "- Null hypothesis H0: No difference in average result\n",
    "- Alternative hypothesis H1: difference in average result"
   ]
  },
  {
   "cell_type": "code",
   "execution_count": 19,
   "id": "suffering-editing",
   "metadata": {},
   "outputs": [
    {
     "name": "stdout",
     "output_type": "stream",
     "text": [
      "mean: 0.077 var: 0.071\n",
      "mean: 0.166 var: 0.139\n",
      "levene: 2.0778342739892737e-183\n",
      "ttest: 4.6155621951161294e-169\n"
     ]
    }
   ],
   "source": [
    "from scipy import stats\n",
    "statistics = df.copy()\n",
    "statistics['y'] = pd.get_dummies(statistics['y'], drop_first=True)\n",
    "# set up the test for housing\n",
    "var1 = statistics['y'].loc[statistics['housing']=='yes'].values\n",
    "var2 = statistics['y'].loc[statistics['housing']=='no'].values\n",
    "print('mean:',round(var1.mean(),3),'var:', round(var1.var(),3))\n",
    "print('mean:',round(var2.mean(),3),'var:', round(var2.var(),3))\n",
    "print('levene:', stats.levene(var1,var2).pvalue)\n",
    "print('ttest:',stats.ttest_ind(var1,var2, equal_var=False).pvalue)"
   ]
  },
  {
   "cell_type": "markdown",
   "id": "corrected-function",
   "metadata": {},
   "source": [
    "The p-values suggest a significant difference in the average result to a confidence of $\\alpha$ = 0.001.\n",
    "\n",
    "Test to see if default yes vs default no has a statistical significance on the average outcome of marketing. \n",
    "- Null hypothesis H0:  No difference in average result \n",
    "- Alternative hypothesis H1: difference in average result"
   ]
  },
  {
   "cell_type": "code",
   "execution_count": 20,
   "id": "accessory-tamil",
   "metadata": {},
   "outputs": [
    {
     "name": "stdout",
     "output_type": "stream",
     "text": [
      "mean: 0.061 var: 0.058\n",
      "mean: 0.117 var: 0.104\n",
      "levene: 1.3571245145269905e-06\n",
      "ttest: 2.579998745852084e-10\n"
     ]
    }
   ],
   "source": [
    "# set up the test for default\n",
    "var1 = statistics['y'].loc[statistics['default']=='yes'].values\n",
    "var2 = statistics['y'].loc[statistics['default']=='no'].values\n",
    "print('mean:',round(var1.mean(),3),'var:', round(var1.var(),3))\n",
    "print('mean:',round(var2.mean(),3),'var:', round(var2.var(),3))\n",
    "print('levene:', stats.levene(var1,var2).pvalue)\n",
    "print('ttest:',stats.ttest_ind(var1,var2, equal_var=False).pvalue)"
   ]
  },
  {
   "cell_type": "markdown",
   "id": "hazardous-excitement",
   "metadata": {},
   "source": [
    "The p-values suggest a significant difference in the average result to a confidence of  𝛼  = 0.001.\n",
    "\n",
    "Test to see if loan yes vs loan no has a statistical significance on the average outcome of marketing.\n",
    "\n",
    "- Null hypothesis H0: No difference in average result\n",
    "- Alternative hypothesis H1: difference in average result"
   ]
  },
  {
   "cell_type": "code",
   "execution_count": 21,
   "id": "unlimited-japan",
   "metadata": {},
   "outputs": [
    {
     "name": "stdout",
     "output_type": "stream",
     "text": [
      "mean: 0.067 var: 0.062\n",
      "mean: 0.126 var: 0.11\n",
      "levene: 1.7468395118237252e-46\n",
      "ttest: 1.9948003461297642e-66\n"
     ]
    }
   ],
   "source": [
    "# set up the test for loan\n",
    "var1 = statistics['y'].loc[statistics['loan']=='yes'].values\n",
    "var2 = statistics['y'].loc[statistics['loan']=='no'].values\n",
    "print('mean:',round(var1.mean(),3),'var:', round(var1.var(),3))\n",
    "print('mean:',round(var2.mean(),3),'var:', round(var2.var(),3))\n",
    "print('levene:', stats.levene(var1,var2).pvalue)\n",
    "print('ttest:',stats.ttest_ind(var1,var2, equal_var=False).pvalue)"
   ]
  },
  {
   "cell_type": "markdown",
   "id": "welcome-kingdom",
   "metadata": {},
   "source": [
    "The p-values suggest a significant difference in the average result to a confidence of  𝛼  = 0.001.\n",
    "\n",
    "It would seem that all the binary varibles default, loan and housing are statistically significant, whilst the variance has not been checked to be equal at this significance level it is unessecary, also the sample sizes are sufficently large and should obey central limit theorem.\n",
    "### Marital\n",
    "\n",
    "Test to see if married customers vs single and divorced customers average response is statistical significant to the average outcome of marketing.\n",
    "\n",
    "Null hypothesis H0: No difference in average result\n",
    "Alternative hypothesis H1: difference in average result"
   ]
  },
  {
   "cell_type": "code",
   "execution_count": 22,
   "id": "abstract-guess",
   "metadata": {},
   "outputs": [
    {
     "name": "stdout",
     "output_type": "stream",
     "text": [
      "mean: 0.14 var: 0.121\n",
      "mean: 0.1 var: 0.09\n",
      "levene: 8.22721400301318e-37\n",
      "ttest: 8.009330223728477e-35\n"
     ]
    }
   ],
   "source": [
    "# set up the test for default\n",
    "var1 = statistics['y'].loc[(statistics['marital']=='single') | (statistics['marital']=='divorced')].values\n",
    "var2 = statistics['y'].loc[statistics['marital']=='married'].values\n",
    "print('mean:',round(var1.mean(),3),'var:', round(var1.var(),3))\n",
    "print('mean:',round(var2.mean(),3),'var:', round(var2.var(),3))\n",
    "print('levene:', stats.levene(var1,var2).pvalue)\n",
    "print('ttest:',stats.ttest_ind(var1,var2, equal_var=False).pvalue)"
   ]
  },
  {
   "cell_type": "markdown",
   "id": "figured-helping",
   "metadata": {},
   "source": [
    "The p-values suggest a significant difference in the average result to a confidence of  𝛼  = 0.001.\n",
    "\n",
    "## Education\n",
    "Test to see if primary education vs secondary or greater has a statistical significance on the average outcome of marketing.\n",
    "\n",
    "- Null hypothesis H0: No difference in average result\n",
    "- Alternative hypothesis H1: difference in average result"
   ]
  },
  {
   "cell_type": "code",
   "execution_count": 23,
   "id": "union-visitor",
   "metadata": {},
   "outputs": [
    {
     "name": "stdout",
     "output_type": "stream",
     "text": [
      "mean: 0.106 var: 0.094\n",
      "mean: 0.086 var: 0.079\n",
      "levene: 4.612812160258219e-06\n",
      "ttest: 1.526908659018407e-06\n"
     ]
    }
   ],
   "source": [
    "# set up the test for default\n",
    "var1 = statistics['y'].loc[(statistics['education']=='secondary') | (statistics['education']=='teritary')].values\n",
    "var2 = statistics['y'].loc[statistics['education']=='primary'].values\n",
    "print('mean:',round(var1.mean(),3),'var:', round(var1.var(),3))\n",
    "print('mean:',round(var2.mean(),3),'var:', round(var2.var(),3))\n",
    "print('levene:', stats.levene(var1,var2).pvalue)\n",
    "print('ttest:',stats.ttest_ind(var1,var2, equal_var=False).pvalue)"
   ]
  },
  {
   "cell_type": "markdown",
   "id": "choice-reservoir",
   "metadata": {},
   "source": [
    "The p-values suggest a significant difference in the average result to a confidence of  𝛼  = 0.001."
   ]
  },
  {
   "cell_type": "markdown",
   "id": "eligible-camcorder",
   "metadata": {},
   "source": [
    "# Define Data types"
   ]
  },
  {
   "cell_type": "code",
   "execution_count": 24,
   "id": "lesser-vision",
   "metadata": {},
   "outputs": [],
   "source": [
    "# create list of numeric columns based on readme\n",
    "numeric_columns = ['age', 'balance', 'day', 'duration', 'campaign', 'pdays', 'previous']\n",
    "# convert to int - breif inspect showed that the data wasn't floats\n",
    "df[numeric_columns] = df[numeric_columns].astype(int)\n",
    "# extract the categorical columns\n",
    "cat_columns = df.drop(columns=['y']).select_dtypes('object').columns\n",
    "# target column\n",
    "target = 'y'"
   ]
  },
  {
   "cell_type": "markdown",
   "id": "attended-selection",
   "metadata": {},
   "source": [
    "# Handle Data\n",
    "## Numeric\n",
    "### Outliers"
   ]
  },
  {
   "cell_type": "code",
   "execution_count": 25,
   "id": "threatened-citizenship",
   "metadata": {},
   "outputs": [
    {
     "data": {
      "text/html": [
       "<div>\n",
       "<style scoped>\n",
       "    .dataframe tbody tr th:only-of-type {\n",
       "        vertical-align: middle;\n",
       "    }\n",
       "\n",
       "    .dataframe tbody tr th {\n",
       "        vertical-align: top;\n",
       "    }\n",
       "\n",
       "    .dataframe thead th {\n",
       "        text-align: right;\n",
       "    }\n",
       "</style>\n",
       "<table border=\"1\" class=\"dataframe\">\n",
       "  <thead>\n",
       "    <tr style=\"text-align: right;\">\n",
       "      <th></th>\n",
       "      <th>count</th>\n",
       "      <th>mean</th>\n",
       "      <th>std</th>\n",
       "      <th>min</th>\n",
       "      <th>25%</th>\n",
       "      <th>50%</th>\n",
       "      <th>75%</th>\n",
       "      <th>max</th>\n",
       "    </tr>\n",
       "  </thead>\n",
       "  <tbody>\n",
       "    <tr>\n",
       "      <th>age</th>\n",
       "      <td>43193.0</td>\n",
       "      <td>40.764082</td>\n",
       "      <td>10.512640</td>\n",
       "      <td>18.0</td>\n",
       "      <td>33.0</td>\n",
       "      <td>39.0</td>\n",
       "      <td>48.0</td>\n",
       "      <td>95.0</td>\n",
       "    </tr>\n",
       "    <tr>\n",
       "      <th>balance</th>\n",
       "      <td>43193.0</td>\n",
       "      <td>1354.027342</td>\n",
       "      <td>3042.103625</td>\n",
       "      <td>-8019.0</td>\n",
       "      <td>71.0</td>\n",
       "      <td>442.0</td>\n",
       "      <td>1412.0</td>\n",
       "      <td>102127.0</td>\n",
       "    </tr>\n",
       "    <tr>\n",
       "      <th>day</th>\n",
       "      <td>43193.0</td>\n",
       "      <td>15.809414</td>\n",
       "      <td>8.305970</td>\n",
       "      <td>1.0</td>\n",
       "      <td>8.0</td>\n",
       "      <td>16.0</td>\n",
       "      <td>21.0</td>\n",
       "      <td>31.0</td>\n",
       "    </tr>\n",
       "    <tr>\n",
       "      <th>duration</th>\n",
       "      <td>43193.0</td>\n",
       "      <td>258.323409</td>\n",
       "      <td>258.162006</td>\n",
       "      <td>0.0</td>\n",
       "      <td>103.0</td>\n",
       "      <td>180.0</td>\n",
       "      <td>318.0</td>\n",
       "      <td>4918.0</td>\n",
       "    </tr>\n",
       "    <tr>\n",
       "      <th>campaign</th>\n",
       "      <td>43193.0</td>\n",
       "      <td>2.758178</td>\n",
       "      <td>3.063987</td>\n",
       "      <td>1.0</td>\n",
       "      <td>1.0</td>\n",
       "      <td>2.0</td>\n",
       "      <td>3.0</td>\n",
       "      <td>58.0</td>\n",
       "    </tr>\n",
       "    <tr>\n",
       "      <th>pdays</th>\n",
       "      <td>43193.0</td>\n",
       "      <td>40.404070</td>\n",
       "      <td>100.420624</td>\n",
       "      <td>-1.0</td>\n",
       "      <td>-1.0</td>\n",
       "      <td>-1.0</td>\n",
       "      <td>-1.0</td>\n",
       "      <td>871.0</td>\n",
       "    </tr>\n",
       "    <tr>\n",
       "      <th>previous</th>\n",
       "      <td>43193.0</td>\n",
       "      <td>0.584863</td>\n",
       "      <td>2.332672</td>\n",
       "      <td>0.0</td>\n",
       "      <td>0.0</td>\n",
       "      <td>0.0</td>\n",
       "      <td>0.0</td>\n",
       "      <td>275.0</td>\n",
       "    </tr>\n",
       "  </tbody>\n",
       "</table>\n",
       "</div>"
      ],
      "text/plain": [
       "            count         mean          std     min    25%    50%     75%  \\\n",
       "age       43193.0    40.764082    10.512640    18.0   33.0   39.0    48.0   \n",
       "balance   43193.0  1354.027342  3042.103625 -8019.0   71.0  442.0  1412.0   \n",
       "day       43193.0    15.809414     8.305970     1.0    8.0   16.0    21.0   \n",
       "duration  43193.0   258.323409   258.162006     0.0  103.0  180.0   318.0   \n",
       "campaign  43193.0     2.758178     3.063987     1.0    1.0    2.0     3.0   \n",
       "pdays     43193.0    40.404070   100.420624    -1.0   -1.0   -1.0    -1.0   \n",
       "previous  43193.0     0.584863     2.332672     0.0    0.0    0.0     0.0   \n",
       "\n",
       "               max  \n",
       "age           95.0  \n",
       "balance   102127.0  \n",
       "day           31.0  \n",
       "duration    4918.0  \n",
       "campaign      58.0  \n",
       "pdays        871.0  \n",
       "previous     275.0  "
      ]
     },
     "execution_count": 25,
     "metadata": {},
     "output_type": "execute_result"
    }
   ],
   "source": [
    "# nspect the numeric columns\n",
    "df.describe().transpose()"
   ]
  },
  {
   "cell_type": "code",
   "execution_count": 26,
   "id": "legal-consumer",
   "metadata": {},
   "outputs": [
    {
     "data": {
      "text/plain": [
       "<AxesSubplot:xlabel='campaign'>"
      ]
     },
     "execution_count": 26,
     "metadata": {},
     "output_type": "execute_result"
    },
    {
     "data": {
      "image/png": "[encoded data removed]",
      "text/plain": [
       "<Figure size 864x648 with 3 Axes>"
      ]
     },
     "metadata": {
      "needs_background": "light"
     },
     "output_type": "display_data"
    }
   ],
   "source": [
    "f, ax = plt.subplots(3, figsize=(12,9))\n",
    "sns.boxplot(x=df['balance'], ax=ax[0], data=df)\n",
    "sns.boxplot(x=df['duration'], ax=ax[1], data=df)\n",
    "sns.boxplot(x=df['campaign'], ax=ax[2], data=df)"
   ]
  },
  {
   "cell_type": "code",
   "execution_count": 27,
   "id": "backed-poker",
   "metadata": {},
   "outputs": [
    {
     "data": {
      "text/plain": [
       "<AxesSubplot:xlabel='campaign'>"
      ]
     },
     "execution_count": 27,
     "metadata": {},
     "output_type": "execute_result"
    },
    {
     "data": {
      "image/png": "[encoded data removed]",
      "text/plain": [
       "<Figure size 864x648 with 3 Axes>"
      ]
     },
     "metadata": {
      "needs_background": "light"
     },
     "output_type": "display_data"
    }
   ],
   "source": [
    "def remove_outliers(df, col, deviations=3, d_type='float'):\n",
    "    '''This function removes outliers based on their Z-score,\n",
    "    any value above or below 3 standard deviations from the \n",
    "    mean are replaced by this cutoff value.\n",
    "    '''\n",
    "    # decide if the results should be ints or floats\n",
    "    if d_type == 'float':\n",
    "        z_upper = df[col].mean() + deviations*df[col].std()\n",
    "        z_lower = df[col].mean() - deviations*df[col].std()\n",
    "    else:\n",
    "        z_upper = int(df[col].mean() + deviations*df[col].std())\n",
    "        z_lower = int(df[col].mean() - deviations*df[col].std())\n",
    "    # replace values above and below    \n",
    "    df.loc[df[col] > z_upper, col] = z_upper\n",
    "    df.loc[df[col] < z_lower, col] = z_lower\n",
    "\n",
    "# remove outliers  \n",
    "for col in ['balance', 'duration', 'campaign', 'pdays', 'previous']:\n",
    "    remove_outliers(df, col, 2, 'ints')\n",
    "\n",
    "# plot new boxplots\n",
    "f, ax = plt.subplots(3, figsize=(12,9))\n",
    "sns.boxplot(x=df['balance'], ax=ax[0], data=df)\n",
    "sns.boxplot(x=df['duration'], ax=ax[1], data=df)\n",
    "sns.boxplot(x=df['campaign'], ax=ax[2], data=df)"
   ]
  },
  {
   "cell_type": "code",
   "execution_count": 28,
   "id": "limiting-above",
   "metadata": {},
   "outputs": [
    {
     "data": {
      "text/html": [
       "<div>\n",
       "<style scoped>\n",
       "    .dataframe tbody tr th:only-of-type {\n",
       "        vertical-align: middle;\n",
       "    }\n",
       "\n",
       "    .dataframe tbody tr th {\n",
       "        vertical-align: top;\n",
       "    }\n",
       "\n",
       "    .dataframe thead th {\n",
       "        text-align: right;\n",
       "    }\n",
       "</style>\n",
       "<table border=\"1\" class=\"dataframe\">\n",
       "  <thead>\n",
       "    <tr style=\"text-align: right;\">\n",
       "      <th></th>\n",
       "      <th>count</th>\n",
       "      <th>mean</th>\n",
       "      <th>std</th>\n",
       "      <th>min</th>\n",
       "      <th>25%</th>\n",
       "      <th>50%</th>\n",
       "      <th>75%</th>\n",
       "      <th>max</th>\n",
       "    </tr>\n",
       "  </thead>\n",
       "  <tbody>\n",
       "    <tr>\n",
       "      <th>age</th>\n",
       "      <td>43193.0</td>\n",
       "      <td>40.764082</td>\n",
       "      <td>10.512640</td>\n",
       "      <td>18.0</td>\n",
       "      <td>33.0</td>\n",
       "      <td>39.0</td>\n",
       "      <td>48.0</td>\n",
       "      <td>95.0</td>\n",
       "    </tr>\n",
       "    <tr>\n",
       "      <th>balance</th>\n",
       "      <td>43193.0</td>\n",
       "      <td>1161.011923</td>\n",
       "      <td>1805.304809</td>\n",
       "      <td>-4730.0</td>\n",
       "      <td>71.0</td>\n",
       "      <td>442.0</td>\n",
       "      <td>1412.0</td>\n",
       "      <td>7438.0</td>\n",
       "    </tr>\n",
       "    <tr>\n",
       "      <th>day</th>\n",
       "      <td>43193.0</td>\n",
       "      <td>15.809414</td>\n",
       "      <td>8.305970</td>\n",
       "      <td>1.0</td>\n",
       "      <td>8.0</td>\n",
       "      <td>16.0</td>\n",
       "      <td>21.0</td>\n",
       "      <td>31.0</td>\n",
       "    </tr>\n",
       "    <tr>\n",
       "      <th>duration</th>\n",
       "      <td>43193.0</td>\n",
       "      <td>242.551525</td>\n",
       "      <td>195.641764</td>\n",
       "      <td>0.0</td>\n",
       "      <td>103.0</td>\n",
       "      <td>180.0</td>\n",
       "      <td>318.0</td>\n",
       "      <td>774.0</td>\n",
       "    </tr>\n",
       "    <tr>\n",
       "      <th>campaign</th>\n",
       "      <td>43193.0</td>\n",
       "      <td>2.511240</td>\n",
       "      <td>1.901326</td>\n",
       "      <td>1.0</td>\n",
       "      <td>1.0</td>\n",
       "      <td>2.0</td>\n",
       "      <td>3.0</td>\n",
       "      <td>8.0</td>\n",
       "    </tr>\n",
       "    <tr>\n",
       "      <th>pdays</th>\n",
       "      <td>43193.0</td>\n",
       "      <td>32.875628</td>\n",
       "      <td>76.629555</td>\n",
       "      <td>-1.0</td>\n",
       "      <td>-1.0</td>\n",
       "      <td>-1.0</td>\n",
       "      <td>-1.0</td>\n",
       "      <td>241.0</td>\n",
       "    </tr>\n",
       "    <tr>\n",
       "      <th>previous</th>\n",
       "      <td>43193.0</td>\n",
       "      <td>0.464404</td>\n",
       "      <td>1.168792</td>\n",
       "      <td>0.0</td>\n",
       "      <td>0.0</td>\n",
       "      <td>0.0</td>\n",
       "      <td>0.0</td>\n",
       "      <td>5.0</td>\n",
       "    </tr>\n",
       "  </tbody>\n",
       "</table>\n",
       "</div>"
      ],
      "text/plain": [
       "            count         mean          std     min    25%    50%     75%  \\\n",
       "age       43193.0    40.764082    10.512640    18.0   33.0   39.0    48.0   \n",
       "balance   43193.0  1161.011923  1805.304809 -4730.0   71.0  442.0  1412.0   \n",
       "day       43193.0    15.809414     8.305970     1.0    8.0   16.0    21.0   \n",
       "duration  43193.0   242.551525   195.641764     0.0  103.0  180.0   318.0   \n",
       "campaign  43193.0     2.511240     1.901326     1.0    1.0    2.0     3.0   \n",
       "pdays     43193.0    32.875628    76.629555    -1.0   -1.0   -1.0    -1.0   \n",
       "previous  43193.0     0.464404     1.168792     0.0    0.0    0.0     0.0   \n",
       "\n",
       "             max  \n",
       "age         95.0  \n",
       "balance   7438.0  \n",
       "day         31.0  \n",
       "duration   774.0  \n",
       "campaign     8.0  \n",
       "pdays      241.0  \n",
       "previous     5.0  "
      ]
     },
     "execution_count": 28,
     "metadata": {},
     "output_type": "execute_result"
    }
   ],
   "source": [
    "df.describe().transpose()"
   ]
  },
  {
   "cell_type": "markdown",
   "id": "extreme-coral",
   "metadata": {},
   "source": [
    "## Encode\n",
    "pd.dummies"
   ]
  },
  {
   "cell_type": "code",
   "execution_count": 29,
   "id": "descending-divorce",
   "metadata": {},
   "outputs": [
    {
     "data": {
      "text/html": [
       "<div>\n",
       "<style scoped>\n",
       "    .dataframe tbody tr th:only-of-type {\n",
       "        vertical-align: middle;\n",
       "    }\n",
       "\n",
       "    .dataframe tbody tr th {\n",
       "        vertical-align: top;\n",
       "    }\n",
       "\n",
       "    .dataframe thead th {\n",
       "        text-align: right;\n",
       "    }\n",
       "</style>\n",
       "<table border=\"1\" class=\"dataframe\">\n",
       "  <thead>\n",
       "    <tr style=\"text-align: right;\">\n",
       "      <th></th>\n",
       "      <th>job_blue-collar</th>\n",
       "      <th>job_entrepreneur</th>\n",
       "      <th>job_housemaid</th>\n",
       "      <th>job_management</th>\n",
       "      <th>job_retired</th>\n",
       "      <th>job_self-employed</th>\n",
       "      <th>job_services</th>\n",
       "      <th>job_student</th>\n",
       "      <th>job_technician</th>\n",
       "      <th>job_unemployed</th>\n",
       "      <th>...</th>\n",
       "      <th>month_nov</th>\n",
       "      <th>month_oct</th>\n",
       "      <th>month_sep</th>\n",
       "      <th>age</th>\n",
       "      <th>balance</th>\n",
       "      <th>day</th>\n",
       "      <th>duration</th>\n",
       "      <th>campaign</th>\n",
       "      <th>pdays</th>\n",
       "      <th>previous</th>\n",
       "    </tr>\n",
       "  </thead>\n",
       "  <tbody>\n",
       "    <tr>\n",
       "      <th>0</th>\n",
       "      <td>0</td>\n",
       "      <td>0</td>\n",
       "      <td>0</td>\n",
       "      <td>1</td>\n",
       "      <td>0</td>\n",
       "      <td>0</td>\n",
       "      <td>0</td>\n",
       "      <td>0</td>\n",
       "      <td>0</td>\n",
       "      <td>0</td>\n",
       "      <td>...</td>\n",
       "      <td>0</td>\n",
       "      <td>0</td>\n",
       "      <td>0</td>\n",
       "      <td>58</td>\n",
       "      <td>2143</td>\n",
       "      <td>5</td>\n",
       "      <td>261</td>\n",
       "      <td>1</td>\n",
       "      <td>-1</td>\n",
       "      <td>0</td>\n",
       "    </tr>\n",
       "    <tr>\n",
       "      <th>1</th>\n",
       "      <td>0</td>\n",
       "      <td>0</td>\n",
       "      <td>0</td>\n",
       "      <td>0</td>\n",
       "      <td>0</td>\n",
       "      <td>0</td>\n",
       "      <td>0</td>\n",
       "      <td>0</td>\n",
       "      <td>1</td>\n",
       "      <td>0</td>\n",
       "      <td>...</td>\n",
       "      <td>0</td>\n",
       "      <td>0</td>\n",
       "      <td>0</td>\n",
       "      <td>44</td>\n",
       "      <td>29</td>\n",
       "      <td>5</td>\n",
       "      <td>151</td>\n",
       "      <td>1</td>\n",
       "      <td>-1</td>\n",
       "      <td>0</td>\n",
       "    </tr>\n",
       "    <tr>\n",
       "      <th>2</th>\n",
       "      <td>0</td>\n",
       "      <td>1</td>\n",
       "      <td>0</td>\n",
       "      <td>0</td>\n",
       "      <td>0</td>\n",
       "      <td>0</td>\n",
       "      <td>0</td>\n",
       "      <td>0</td>\n",
       "      <td>0</td>\n",
       "      <td>0</td>\n",
       "      <td>...</td>\n",
       "      <td>0</td>\n",
       "      <td>0</td>\n",
       "      <td>0</td>\n",
       "      <td>33</td>\n",
       "      <td>2</td>\n",
       "      <td>5</td>\n",
       "      <td>76</td>\n",
       "      <td>1</td>\n",
       "      <td>-1</td>\n",
       "      <td>0</td>\n",
       "    </tr>\n",
       "    <tr>\n",
       "      <th>5</th>\n",
       "      <td>0</td>\n",
       "      <td>0</td>\n",
       "      <td>0</td>\n",
       "      <td>1</td>\n",
       "      <td>0</td>\n",
       "      <td>0</td>\n",
       "      <td>0</td>\n",
       "      <td>0</td>\n",
       "      <td>0</td>\n",
       "      <td>0</td>\n",
       "      <td>...</td>\n",
       "      <td>0</td>\n",
       "      <td>0</td>\n",
       "      <td>0</td>\n",
       "      <td>35</td>\n",
       "      <td>231</td>\n",
       "      <td>5</td>\n",
       "      <td>139</td>\n",
       "      <td>1</td>\n",
       "      <td>-1</td>\n",
       "      <td>0</td>\n",
       "    </tr>\n",
       "    <tr>\n",
       "      <th>6</th>\n",
       "      <td>0</td>\n",
       "      <td>0</td>\n",
       "      <td>0</td>\n",
       "      <td>1</td>\n",
       "      <td>0</td>\n",
       "      <td>0</td>\n",
       "      <td>0</td>\n",
       "      <td>0</td>\n",
       "      <td>0</td>\n",
       "      <td>0</td>\n",
       "      <td>...</td>\n",
       "      <td>0</td>\n",
       "      <td>0</td>\n",
       "      <td>0</td>\n",
       "      <td>28</td>\n",
       "      <td>447</td>\n",
       "      <td>5</td>\n",
       "      <td>217</td>\n",
       "      <td>1</td>\n",
       "      <td>-1</td>\n",
       "      <td>0</td>\n",
       "    </tr>\n",
       "  </tbody>\n",
       "</table>\n",
       "<p>5 rows × 37 columns</p>\n",
       "</div>"
      ],
      "text/plain": [
       "   job_blue-collar  job_entrepreneur  job_housemaid  job_management  \\\n",
       "0                0                 0              0               1   \n",
       "1                0                 0              0               0   \n",
       "2                0                 1              0               0   \n",
       "5                0                 0              0               1   \n",
       "6                0                 0              0               1   \n",
       "\n",
       "   job_retired  job_self-employed  job_services  job_student  job_technician  \\\n",
       "0            0                  0             0            0               0   \n",
       "1            0                  0             0            0               1   \n",
       "2            0                  0             0            0               0   \n",
       "5            0                  0             0            0               0   \n",
       "6            0                  0             0            0               0   \n",
       "\n",
       "   job_unemployed  ...  month_nov  month_oct  month_sep  age  balance  day  \\\n",
       "0               0  ...          0          0          0   58     2143    5   \n",
       "1               0  ...          0          0          0   44       29    5   \n",
       "2               0  ...          0          0          0   33        2    5   \n",
       "5               0  ...          0          0          0   35      231    5   \n",
       "6               0  ...          0          0          0   28      447    5   \n",
       "\n",
       "   duration  campaign  pdays  previous  \n",
       "0       261         1     -1         0  \n",
       "1       151         1     -1         0  \n",
       "2        76         1     -1         0  \n",
       "5       139         1     -1         0  \n",
       "6       217         1     -1         0  \n",
       "\n",
       "[5 rows x 37 columns]"
      ]
     },
     "execution_count": 29,
     "metadata": {},
     "output_type": "execute_result"
    }
   ],
   "source": [
    "# encode target varible\n",
    "y = pd.get_dummies(df[target], drop_first=True)\n",
    "# encode features\n",
    "X = pd.get_dummies(df[cat_columns], drop_first=True)\n",
    "# re-add numeric columns\n",
    "X[numeric_columns] = df[numeric_columns]\n",
    "X.head()"
   ]
  },
  {
   "cell_type": "markdown",
   "id": "spare-boston",
   "metadata": {},
   "source": [
    "# Model\n",
    "\n",
    "For the modelling, the target varible is inbalanced in the training data. The model was trained and compared for imbalanced data, over-sampled data using SMOTE and undersampled data. The results between imbalanced and oversampled are very similar, the undersampled data, however, is significantly more interesting as the precision of the model reduces by approximatley 0.2 but the recall significantly increases approx 0.36 to 0.9 and the F-score increases by 0.1."
   ]
  },
  {
   "cell_type": "code",
   "execution_count": 30,
   "id": "fresh-anatomy",
   "metadata": {},
   "outputs": [
    {
     "name": "stdout",
     "output_type": "stream",
     "text": [
      "Original dataset shape Counter({0: 38172, 1: 5021})\n",
      "Resampled dataset shape Counter({0: 4040, 1: 4040})\n"
     ]
    }
   ],
   "source": [
    "from imblearn.under_sampling import RandomUnderSampler \n",
    "from sklearn.model_selection import train_test_split\n",
    "\n",
    "# split training and testing\n",
    "X_train, X_test, y_train, y_test = train_test_split(X, y, test_size=0.2, random_state=42)\n",
    "# undersampling\n",
    "print('Original dataset shape %s' % Counter(y['yes']))\n",
    "rus = RandomUnderSampler(random_state=42)\n",
    "X_train_under, y_train_under = rus.fit_resample(X_train, y_train)\n",
    "print('Resampled dataset shape %s' % Counter(y_train_under['yes']))"
   ]
  },
  {
   "cell_type": "code",
   "execution_count": 31,
   "id": "interstate-trauma",
   "metadata": {},
   "outputs": [],
   "source": [
    "from sklearn.ensemble import RandomForestClassifier\n",
    "clf_under = RandomForestClassifier(n_estimators = 200, min_samples_leaf=1, random_state=42)\n",
    "clf_under.fit(X_train_under, y_train_under.values.flatten())\n",
    "preds_under = clf_under.predict(X_test)"
   ]
  },
  {
   "cell_type": "code",
   "execution_count": 32,
   "id": "patient-mounting",
   "metadata": {},
   "outputs": [
    {
     "name": "stdout",
     "output_type": "stream",
     "text": [
      "recall: 0.8980632008154944\n",
      "precision: 0.4111059262715819\n",
      "f1_score: 0.5640204865556979\n",
      "accuracy: 0.8423428637573793\n"
     ]
    },
    {
     "data": {
      "text/plain": [
       "<sklearn.metrics._plot.confusion_matrix.ConfusionMatrixDisplay at 0x214b4e70f98>"
      ]
     },
     "execution_count": 32,
     "metadata": {},
     "output_type": "execute_result"
    },
    {
     "data": {
      "image/png": "[encoded data removed]",
      "text/plain": [
       "<Figure size 432x288 with 2 Axes>"
      ]
     },
     "metadata": {
      "needs_background": "light"
     },
     "output_type": "display_data"
    }
   ],
   "source": [
    "from sklearn.metrics import recall_score, precision_score, f1_score, plot_confusion_matrix, accuracy_score\n",
    "print('recall:', recall_score(y_test, preds_under))\n",
    "print('precision:', precision_score(y_test, preds_under))\n",
    "print('f1_score:', f1_score(y_test, preds_under))\n",
    "print('accuracy:', accuracy_score(y_test, preds_under))\n",
    "plot_confusion_matrix(clf_under, X_test, y_test)"
   ]
  },
  {
   "cell_type": "markdown",
   "id": "potential-bibliography",
   "metadata": {},
   "source": [
    "### Conclusion\n",
    "So what does this model actually mean? The model will correctly identify 90% possible customers, at the same time 4 out of 10 customers contacted will take the product. By comparison the current marketing campagin strategy only 1 in 10 customers will take the product. This means the marketing costs can be reduced by as much as 75%, as less customers will need to be contacted to achieve the same results as the current marketing strategy.\n",
    "\n",
    "(Note figures marginally rounded 12/100 for original, 41/100 for model).\n",
    "\n",
    "## Features\n",
    "The best 10 features shown below."
   ]
  },
  {
   "cell_type": "code",
   "execution_count": 33,
   "id": "known-enclosure",
   "metadata": {},
   "outputs": [
    {
     "data": {
      "text/html": [
       "<div>\n",
       "<style scoped>\n",
       "    .dataframe tbody tr th:only-of-type {\n",
       "        vertical-align: middle;\n",
       "    }\n",
       "\n",
       "    .dataframe tbody tr th {\n",
       "        vertical-align: top;\n",
       "    }\n",
       "\n",
       "    .dataframe thead th {\n",
       "        text-align: right;\n",
       "    }\n",
       "</style>\n",
       "<table border=\"1\" class=\"dataframe\">\n",
       "  <thead>\n",
       "    <tr style=\"text-align: right;\">\n",
       "      <th></th>\n",
       "      <th>Feature</th>\n",
       "      <th>Importance</th>\n",
       "    </tr>\n",
       "  </thead>\n",
       "  <tbody>\n",
       "    <tr>\n",
       "      <th>0</th>\n",
       "      <td>duration</td>\n",
       "      <td>0.345</td>\n",
       "    </tr>\n",
       "    <tr>\n",
       "      <th>1</th>\n",
       "      <td>balance</td>\n",
       "      <td>0.087</td>\n",
       "    </tr>\n",
       "    <tr>\n",
       "      <th>2</th>\n",
       "      <td>age</td>\n",
       "      <td>0.086</td>\n",
       "    </tr>\n",
       "    <tr>\n",
       "      <th>3</th>\n",
       "      <td>day</td>\n",
       "      <td>0.075</td>\n",
       "    </tr>\n",
       "    <tr>\n",
       "      <th>4</th>\n",
       "      <td>pdays</td>\n",
       "      <td>0.044</td>\n",
       "    </tr>\n",
       "    <tr>\n",
       "      <th>5</th>\n",
       "      <td>campaign</td>\n",
       "      <td>0.036</td>\n",
       "    </tr>\n",
       "    <tr>\n",
       "      <th>6</th>\n",
       "      <td>contact_cellular</td>\n",
       "      <td>0.031</td>\n",
       "    </tr>\n",
       "    <tr>\n",
       "      <th>7</th>\n",
       "      <td>housing_yes</td>\n",
       "      <td>0.031</td>\n",
       "    </tr>\n",
       "    <tr>\n",
       "      <th>8</th>\n",
       "      <td>previous</td>\n",
       "      <td>0.029</td>\n",
       "    </tr>\n",
       "    <tr>\n",
       "      <th>9</th>\n",
       "      <td>month_may</td>\n",
       "      <td>0.017</td>\n",
       "    </tr>\n",
       "  </tbody>\n",
       "</table>\n",
       "</div>"
      ],
      "text/plain": [
       "            Feature  Importance\n",
       "0          duration       0.345\n",
       "1           balance       0.087\n",
       "2               age       0.086\n",
       "3               day       0.075\n",
       "4             pdays       0.044\n",
       "5          campaign       0.036\n",
       "6  contact_cellular       0.031\n",
       "7       housing_yes       0.031\n",
       "8          previous       0.029\n",
       "9         month_may       0.017"
      ]
     },
     "execution_count": 33,
     "metadata": {},
     "output_type": "execute_result"
    }
   ],
   "source": [
    "importances = clf_under.feature_importances_\n",
    "columns = list(X.columns)\n",
    "features, values = [], []\n",
    "for _ in range(34):\n",
    "    idx = np.where(importances == importances.max())[0][0]\n",
    "    #print(columns[idx], 'importance:', round(importances[idx],3))\n",
    "    features.append(columns[idx])\n",
    "    values.append(round(importances[idx],3))\n",
    "    importances = np.delete(importances,idx) \n",
    "    columns.remove(columns[idx])\n",
    "\n",
    "features = pd.DataFrame({'Feature': features, 'Importance': values})\n",
    "features.head(10)"
   ]
  },
  {
   "cell_type": "code",
   "execution_count": null,
   "id": "infrared-tooth",
   "metadata": {},
   "outputs": [],
   "source": []
  }
 ],
 "metadata": {
  "kernelspec": {
   "display_name": "Python 3",
   "language": "python",
   "name": "python3"
  },
  "language_info": {
   "codemirror_mode": {
    "name": "ipython",
    "version": 3
   },
   "file_extension": ".py",
   "mimetype": "text/x-python",
   "name": "python",
   "nbconvert_exporter": "python",
   "pygments_lexer": "ipython3",
   "version": "3.7.1"
  }
 },
 "nbformat": 4,
 "nbformat_minor": 5
}
